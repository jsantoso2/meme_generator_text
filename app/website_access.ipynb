{
 "cells": [
  {
   "cell_type": "code",
   "execution_count": 1,
   "metadata": {},
   "outputs": [],
   "source": [
    "%config IPCompleter.greedy=True"
   ]
  },
  {
   "cell_type": "code",
   "execution_count": 2,
   "metadata": {},
   "outputs": [],
   "source": [
    "import time\n",
    "import json\n",
    "import urllib.request"
   ]
  },
  {
   "cell_type": "code",
   "execution_count": 3,
   "metadata": {},
   "outputs": [],
   "source": [
    "# selenium imports\n",
    "from selenium import webdriver"
   ]
  },
  {
   "cell_type": "code",
   "execution_count": 4,
   "metadata": {},
   "outputs": [],
   "source": [
    "# selenium preferences to prevent load images\n",
    "# define webdriver options\n",
    "chrome_options = webdriver.ChromeOptions()\n",
    "prefs = {\"profile.managed_default_content_settings.images\": 1}\n",
    "#chrome_options.add_argument(\"--headless\")\n",
    "chrome_options.add_argument('window-size=1920x1080');\n",
    "chrome_options.add_argument(\"--start-maximized\");\n",
    "chrome_options.add_experimental_option(\"prefs\", prefs)"
   ]
  },
  {
   "cell_type": "markdown",
   "metadata": {},
   "source": [
    "Chrome Webdriver Download: https://sites.google.com/a/chromium.org/chromedriver/downloads"
   ]
  },
  {
   "cell_type": "code",
   "execution_count": 5,
   "metadata": {},
   "outputs": [],
   "source": [
    "# define constants\n",
    "base_url = 'https://imgflip.com/memegenerator'\n",
    "driver = webdriver.Chrome(options=chrome_options)\n",
    "driver.get(base_url)"
   ]
  },
  {
   "cell_type": "code",
   "execution_count": 6,
   "metadata": {},
   "outputs": [],
   "source": [
    "# open from json file\n",
    "with open('backend/img2idx.json', 'r', encoding = 'UTF-8') as json_file:\n",
    "    img2idx = json.load(json_file)\n",
    "\n",
    "idx2img = {value:key for key, value in img2idx.items()}"
   ]
  },
  {
   "cell_type": "code",
   "execution_count": 7,
   "metadata": {},
   "outputs": [],
   "source": [
    "# type in search bar desired memes\n",
    "search_bar = driver.find_element_by_id(\"mm-search\")\n",
    "search_bar.send_keys(idx2img[1])\n",
    "\n",
    "time.sleep(1)"
   ]
  },
  {
   "cell_type": "code",
   "execution_count": 8,
   "metadata": {},
   "outputs": [],
   "source": [
    "# click first result\n",
    "first_search_result = driver.find_element_by_xpath('//*[@id=\"mm-search-dropdown\"]/table/tbody/tr[2]/td[2]')\n",
    "first_search_result.click()"
   ]
  },
  {
   "cell_type": "code",
   "execution_count": 9,
   "metadata": {},
   "outputs": [],
   "source": [
    "# select private\n",
    "private_button = driver.find_element_by_xpath('//*[@id=\"mm-settings\"]/div[9]/div[2]/div/div')\n",
    "private_button.click()"
   ]
  },
  {
   "cell_type": "code",
   "execution_count": 10,
   "metadata": {},
   "outputs": [
    {
     "data": {
      "text/plain": [
       "['I was a meme', \"until I wasn't a meme\", 'haha']"
      ]
     },
     "execution_count": 10,
     "metadata": {},
     "output_type": "execute_result"
    }
   ],
   "source": [
    "# sample string\n",
    "final = \"<start>I was a meme<sep>until I wasn't a meme<sep>haha<end>\"\n",
    "final = final.replace(\"<start>\", \"\")\n",
    "final = final.replace(\"<end>\", \"\")\n",
    "final = final.split(\"<sep>\")\n",
    "final"
   ]
  },
  {
   "cell_type": "code",
   "execution_count": 11,
   "metadata": {},
   "outputs": [
    {
     "name": "stdout",
     "output_type": "stream",
     "text": [
      "too much text\n"
     ]
    }
   ],
   "source": [
    "try:\n",
    "    # write text\n",
    "    for i in range(len(final)):\n",
    "        text_box = driver.find_element_by_xpath('//*[@id=\"mm-settings\"]/div[5]/div[' + str(i+1) +']/div[1]/textarea')\n",
    "        text_box.send_keys(final[i])\n",
    "except:\n",
    "    print(\"too much text\")"
   ]
  },
  {
   "cell_type": "code",
   "execution_count": 12,
   "metadata": {},
   "outputs": [],
   "source": [
    "# click generate\n",
    "generate_button = driver.find_element_by_class_name('mm-generate')\n",
    "generate_button.click()\n",
    "\n",
    "time.sleep(1)"
   ]
  },
  {
   "cell_type": "code",
   "execution_count": 13,
   "metadata": {},
   "outputs": [],
   "source": [
    "# curr image\n",
    "finished_img = driver.find_element_by_id('done-img')"
   ]
  },
  {
   "cell_type": "code",
   "execution_count": 14,
   "metadata": {},
   "outputs": [],
   "source": [
    "img_src = finished_img.get_attribute('src')\n",
    "urllib.request.urlretrieve(img_src, \"currmeme.jpg\");"
   ]
  },
  {
   "cell_type": "code",
   "execution_count": 15,
   "metadata": {},
   "outputs": [],
   "source": [
    "driver.close()"
   ]
  },
  {
   "cell_type": "code",
   "execution_count": null,
   "metadata": {},
   "outputs": [],
   "source": []
  },
  {
   "cell_type": "code",
   "execution_count": 16,
   "metadata": {},
   "outputs": [],
   "source": [
    "# download to local file\n",
    "#download_button = driver.find_element_by_xpath('//*[@id=\"done-embed-codes\"]/div/a')\n",
    "#download_button.click()"
   ]
  },
  {
   "cell_type": "code",
   "execution_count": null,
   "metadata": {},
   "outputs": [],
   "source": []
  },
  {
   "cell_type": "code",
   "execution_count": null,
   "metadata": {},
   "outputs": [],
   "source": []
  }
 ],
 "metadata": {
  "kernelspec": {
   "display_name": "Python 3",
   "language": "python",
   "name": "python3"
  },
  "language_info": {
   "codemirror_mode": {
    "name": "ipython",
    "version": 3
   },
   "file_extension": ".py",
   "mimetype": "text/x-python",
   "name": "python",
   "nbconvert_exporter": "python",
   "pygments_lexer": "ipython3",
   "version": "3.7.6"
  }
 },
 "nbformat": 4,
 "nbformat_minor": 4
}
